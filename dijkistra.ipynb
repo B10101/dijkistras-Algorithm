{
 "cells": [
  {
   "cell_type": "code",
   "execution_count": 8,
   "id": "6ce43d4a",
   "metadata": {},
   "outputs": [],
   "source": [
    "from numpy import inf"
   ]
  },
  {
   "cell_type": "code",
   "execution_count": 18,
   "id": "8b00ca4a",
   "metadata": {},
   "outputs": [],
   "source": [
    "graph = {\n",
    "    'A': {'B': 1, 'C': 3},\n",
    "    'B': {'A': 1, 'C': 4, 'D': 2},\n",
    "    'C': {'A': 3, 'B': 4, 'D': 1},\n",
    "    'D': {'E': 5, 'B': 4, 'C': 1, 'F':3},\n",
    "    'E': {'D': 5, 'H': 2, 'F':1},\n",
    "    'F': {'D': 5, 'G': 5,'E':1},\n",
    "    'G': {'F': 5, 'H': 1},\n",
    "    'H': {'E': 2, 'G': 1}}\n",
    "costs = {'A': 0, 'B': inf, 'C': inf, 'D': inf, 'E': inf, 'F': inf, 'G': inf, 'H': inf}\n",
    "parents_min = {}\n",
    "parents_max = {}"
   ]
  },
  {
   "cell_type": "code",
   "execution_count": 19,
   "id": "da3a0819",
   "metadata": {},
   "outputs": [
    {
     "name": "stdout",
     "output_type": "stream",
     "text": [
      "{'B': 'A', 'C': 'A', 'D': 'B', 'E': 'F', 'F': 'D', 'G': 'H', 'H': 'E'}\n"
     ]
    }
   ],
   "source": [
    "def search_min(source, target, graph, costs, parents):\n",
    "    nextNode = source\n",
    "    while nextNode != target:\n",
    "        for neighbor in graph[nextNode]:\n",
    "            if graph[nextNode][neighbor] + costs[nextNode] < costs[neighbor]:\n",
    "                costs[neighbor] = graph[nextNode][neighbor] + costs[nextNode]\n",
    "                parents[neighbor] = nextNode\n",
    "            del graph[neighbor][nextNode]\n",
    "        del costs[nextNode]\n",
    "        nextNode = min(costs, key=costs.get)\n",
    "    return parents\n",
    "result = search_min('A', 'G', graph, costs, parents_min)\n",
    "print(result)"
   ]
  },
  {
   "cell_type": "code",
   "execution_count": 20,
   "id": "a214d7bf",
   "metadata": {},
   "outputs": [],
   "source": [
    "def back_pedal(source, target, search_result):\n",
    "    node = target\n",
    "    back_path = [target]\n",
    "    path = []\n",
    "    while node != source:\n",
    "        back_path.append(search_result[node])\n",
    "        node = search_result[node]\n",
    "    for i in range(len(back_path)):\n",
    "        path.append(back_path[-i - 1])\n",
    "    return path"
   ]
  },
  {
   "cell_type": "code",
   "execution_count": 21,
   "id": "23af85da",
   "metadata": {},
   "outputs": [
    {
     "name": "stdout",
     "output_type": "stream",
     "text": [
      "parent dictionary={'B': 'A', 'C': 'A', 'D': 'B', 'E': 'F', 'F': 'D', 'G': 'H', 'H': 'E'}\n",
      "longest path=['A', 'B', 'D', 'F', 'E', 'H', 'G']\n"
     ]
    }
   ],
   "source": [
    "print('parent dictionary={}'.format(result))\n",
    "print('longest path={}'.format(back_pedal('A', 'G', result)))"
   ]
  },
  {
   "cell_type": "code",
   "execution_count": null,
   "id": "64e6700a",
   "metadata": {},
   "outputs": [],
   "source": []
  }
 ],
 "metadata": {
  "kernelspec": {
   "display_name": "Python 3 (ipykernel)",
   "language": "python",
   "name": "python3"
  },
  "language_info": {
   "codemirror_mode": {
    "name": "ipython",
    "version": 3
   },
   "file_extension": ".py",
   "mimetype": "text/x-python",
   "name": "python",
   "nbconvert_exporter": "python",
   "pygments_lexer": "ipython3",
   "version": "3.10.9"
  }
 },
 "nbformat": 4,
 "nbformat_minor": 5
}
